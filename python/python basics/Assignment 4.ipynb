{
 "cells": [
  {
   "cell_type": "markdown",
   "id": "15febfa5",
   "metadata": {},
   "source": [
    "ASSIGNMENT 4 :-"
   ]
  },
  {
   "cell_type": "markdown",
   "id": "1f7162ac",
   "metadata": {},
   "source": [
    "1. What exactly is []?"
   ]
  },
  {
   "cell_type": "code",
   "execution_count": null,
   "id": "e0a2a906",
   "metadata": {},
   "outputs": [],
   "source": [
    "Empty list is represented by [] and same as the empty string is represented by ' '.\n",
    "They are both mutable and a sequence data type that allows them to be indexed\n",
    "and sliced."
   ]
  },
  {
   "cell_type": "code",
   "execution_count": 2,
   "id": "4e6f8d58",
   "metadata": {},
   "outputs": [
    {
     "name": "stdout",
     "output_type": "stream",
     "text": [
      "variable of a :  []\n",
      "type of a :  <class 'list'>\n",
      "lenght of a :  0\n"
     ]
    }
   ],
   "source": [
    "# ex for empty list:-\n",
    "# list can be declared to variable\n",
    "a = []\n",
    "\n",
    "print('variable of a : ', a)\n",
    "print('type of a : ', type(a))\n",
    "print('lenght of a : ', len(a))"
   ]
  },
  {
   "cell_type": "markdown",
   "id": "e19b6aef",
   "metadata": {},
   "source": [
    "2. In a list of values stored in a variable called spam, how would you assign the value 'hello' as the third value? (Assume [2, 4, 6, 8, 10] are in spam.)"
   ]
  },
  {
   "cell_type": "code",
   "execution_count": null,
   "id": "703e3e32",
   "metadata": {},
   "outputs": [],
   "source": [
    "# expected output is  spam[2] = 'hello' "
   ]
  },
  {
   "cell_type": "code",
   "execution_count": 4,
   "id": "ba2f948b",
   "metadata": {},
   "outputs": [
    {
     "name": "stdout",
     "output_type": "stream",
     "text": [
      "[2, 4, 6, 8, 10]\n",
      "[2, 4, 'hello', 8, 10]\n"
     ]
    }
   ],
   "source": [
    "ex 2:-\n",
    "spam = [2,4,6,8,10]\n",
    "print(spam)\n",
    "spam[2]= 'hello'\n",
    "print(spam)"
   ]
  },
  {
   "cell_type": "markdown",
   "id": "3d677fd5",
   "metadata": {},
   "source": [
    "#Let's pretend the spam includes the list ['a','b','c',d'] for the next three queries."
   ]
  },
  {
   "cell_type": "markdown",
   "id": "42e46847",
   "metadata": {},
   "source": [
    "3. What is the value of spam[int(int('3'*2)//11)] "
   ]
  },
  {
   "cell_type": "code",
   "execution_count": 10,
   "id": "6bef146a",
   "metadata": {},
   "outputs": [
    {
     "name": "stdout",
     "output_type": "stream",
     "text": [
      "3\n",
      "d\n"
     ]
    }
   ],
   "source": [
    "# ex 3:-\n",
    "spam = ['a','b','c','d']\n",
    "print(int(int('3'*2)//11)) #--> index number for output 3 is 'd'\n",
    "\n",
    "print(spam[int(int('3'*2)//11)])"
   ]
  },
  {
   "cell_type": "markdown",
   "id": "2401f91a",
   "metadata": {},
   "source": [
    "4.What is the value of spam[-1]?"
   ]
  },
  {
   "cell_type": "code",
   "execution_count": null,
   "id": "d3b62fb5",
   "metadata": {},
   "outputs": [],
   "source": [
    "In the list always indexing starts from positive side [0,1,2,3,....positive n] And \n",
    "from negative end starts from -1,[-1,-2,-1...,negative n]"
   ]
  },
  {
   "cell_type": "code",
   "execution_count": 12,
   "id": "65e25615",
   "metadata": {},
   "outputs": [
    {
     "name": "stdout",
     "output_type": "stream",
     "text": [
      "['a', 'b', 'c', 'd']\n",
      "spam[-1] is :  d\n"
     ]
    }
   ],
   "source": [
    "print(spam)\n",
    "print('spam[-1] is : ', spam[-1])"
   ]
  },
  {
   "cell_type": "markdown",
   "id": "13e6d39f",
   "metadata": {},
   "source": [
    "5. What is the value of spam[:2]?"
   ]
  },
  {
   "cell_type": "code",
   "execution_count": null,
   "id": "9d1330cd",
   "metadata": {},
   "outputs": [],
   "source": [
    "spam[:2] means spam[0:2] which is starts from 0 index value to 1 index value which is exclude 2 index value which is 'a' , 'b'"
   ]
  },
  {
   "cell_type": "code",
   "execution_count": 14,
   "id": "cf5035f4",
   "metadata": {},
   "outputs": [
    {
     "name": "stdout",
     "output_type": "stream",
     "text": [
      "['a', 'b', 'c', 'd']\n",
      "spam[:2] is :  ['a', 'b']\n"
     ]
    }
   ],
   "source": [
    "print(spam)\n",
    "print('spam[:2] is : ', spam[:2])"
   ]
  },
  {
   "cell_type": "markdown",
   "id": "455db5df",
   "metadata": {},
   "source": [
    "Let's pretend bacon has the list [3.14,'cat',11,'cat',True] for the next three question"
   ]
  },
  {
   "cell_type": "markdown",
   "id": "0aea8eee",
   "metadata": {},
   "source": [
    "6. What is the value of bacon.index('cat')?"
   ]
  },
  {
   "cell_type": "code",
   "execution_count": null,
   "id": "5db7a147",
   "metadata": {},
   "outputs": [],
   "source": [
    "The value of bacon.index('cat') is 1. Always index method returns a first occurance index of 'cat'"
   ]
  },
  {
   "cell_type": "code",
   "execution_count": 18,
   "id": "d39dfdcc",
   "metadata": {},
   "outputs": [
    {
     "name": "stdout",
     "output_type": "stream",
     "text": [
      "bacon.index('cat') is :  1\n"
     ]
    }
   ],
   "source": [
    "#ex 6:-\n",
    "bacon = [3.14,'cat',11,'cat',True]\n",
    "print(\"bacon.index('cat') is : \" , bacon.index('cat'))"
   ]
  },
  {
   "cell_type": "markdown",
   "id": "71c872f4",
   "metadata": {},
   "source": [
    "7. How does bacon.append(99) change the look of the list value in bacon?"
   ]
  },
  {
   "cell_type": "code",
   "execution_count": null,
   "id": "c9872650",
   "metadata": {},
   "outputs": [],
   "source": [
    "Append statement always adds the value in the list for last."
   ]
  },
  {
   "cell_type": "code",
   "execution_count": 26,
   "id": "4a27cb47",
   "metadata": {},
   "outputs": [
    {
     "name": "stdout",
     "output_type": "stream",
     "text": [
      "add of 99 : [3.14, 'cat', 11, 'cat', True, 99]\n"
     ]
    }
   ],
   "source": [
    "#ex 7:\n",
    "bacon = [3.14,'cat',11,'cat',True]\n",
    "bacon.append(99)\n",
    "print('add of 99 :' , bacon)"
   ]
  },
  {
   "cell_type": "markdown",
   "id": "b13ebe75",
   "metadata": {},
   "source": [
    "8. How does bacon.remove('cat') change the look of the list in bacon?"
   ]
  },
  {
   "cell_type": "code",
   "execution_count": null,
   "id": "41004358",
   "metadata": {},
   "outputs": [],
   "source": [
    "The remove method removes the first occurence of the element in the list"
   ]
  },
  {
   "cell_type": "code",
   "execution_count": 31,
   "id": "a06b01ca",
   "metadata": {},
   "outputs": [
    {
     "name": "stdout",
     "output_type": "stream",
     "text": [
      "[3.14, 'cat', 11, 'cat', True, 99]\n",
      "remove 'cat' :  [3.14, 11, 'cat', True, 99]\n"
     ]
    }
   ],
   "source": [
    "bacon = [3.14, 'cat', 11, 'cat', True, 99]\n",
    "print(bacon)\n",
    "bacon.remove('cat')\n",
    "\n",
    "print(\"remove 'cat' : \" ,bacon)"
   ]
  },
  {
   "cell_type": "markdown",
   "id": "ad9edb78",
   "metadata": {},
   "source": [
    "9.what are the list concatenation and list replication operations?"
   ]
  },
  {
   "cell_type": "code",
   "execution_count": null,
   "id": "d0f1a1eb",
   "metadata": {},
   "outputs": [],
   "source": [
    "The operator for list concatenation is +, while the operator for replication is *. (This is the same as for strings.)"
   ]
  },
  {
   "cell_type": "code",
   "execution_count": 36,
   "id": "16a3c4f1",
   "metadata": {},
   "outputs": [
    {
     "name": "stdout",
     "output_type": "stream",
     "text": [
      "['DS', 'DS', 'ML', 'DL', 'AI', 'nithin', 'sachin', 'ganesh']\n",
      "['DS', 'DS', 'ML', 'DL', 'AI', 'DS', 'DS', 'ML', 'DL', 'AI']\n"
     ]
    }
   ],
   "source": [
    "# ex. 9:-\n",
    "l1 = ['DS', 'DS', 'ML','DL','AI']\n",
    "l2 = ['nithin', 'sachin', 'ganesh']\n",
    "\n",
    "print(l1+l2) # list for concatination\n",
    "print(l1*2) # list for replication\n"
   ]
  },
  {
   "cell_type": "markdown",
   "id": "9df3e094",
   "metadata": {},
   "source": [
    "10.what is the difference between the list method append() and insert()?"
   ]
  },
  {
   "cell_type": "code",
   "execution_count": null,
   "id": "fef60f31",
   "metadata": {},
   "outputs": [],
   "source": [
    "While append() will add values only to the end of a list, insert() can add them anywhere in the list.\n",
    "The only difference between append() and insert() is that insert function allows us to add a specific element at a \n",
    "specified index of the list unlike append() where we can add the element only at end of the list."
   ]
  },
  {
   "cell_type": "code",
   "execution_count": 41,
   "id": "8cb6ace9",
   "metadata": {},
   "outputs": [
    {
     "name": "stdout",
     "output_type": "stream",
     "text": [
      "[1, 2, 3, 4, 5, 6, 99]\n",
      "[1, 2, 3, 4, 'nithin', 5, 6, 99]\n"
     ]
    }
   ],
   "source": [
    "#ex 9:-\n",
    "\n",
    "l1 = [1,2,3,4,5,6]\n",
    "l1.append(99) # for append where the value will be added in end of the statement\n",
    "print(l1)\n",
    "\n",
    "l1.insert(4,'nithin') # its an insert where we can add on to specific index itslef\n",
    "print(l1)"
   ]
  },
  {
   "cell_type": "markdown",
   "id": "601fdd63",
   "metadata": {},
   "source": [
    "11. What are the two methods for removing items from a list?"
   ]
  },
  {
   "cell_type": "code",
   "execution_count": null,
   "id": "9f321e51",
   "metadata": {},
   "outputs": [],
   "source": [
    "The del statement and the remove() method are two ways to remove values from a list\n",
    "There are other ways like pop() used to remove values and if we need to delete then we can do as clear()"
   ]
  },
  {
   "cell_type": "code",
   "execution_count": 42,
   "id": "5e3cd7e1",
   "metadata": {},
   "outputs": [
    {
     "name": "stdout",
     "output_type": "stream",
     "text": [
      "[1, 2, 3, 4, 'nithin', 5, 6, 99]\n",
      "[1, 2, 3, 4, 5, 6, 99]\n"
     ]
    }
   ],
   "source": [
    "# using remove we can specific value in an list\n",
    "print(l1) \n",
    "l1.remove('nithin')\n",
    "print(l1)"
   ]
  },
  {
   "cell_type": "code",
   "execution_count": 54,
   "id": "3b36e76e",
   "metadata": {},
   "outputs": [
    {
     "name": "stdout",
     "output_type": "stream",
     "text": [
      "[1, 2, 3, 4, 6]\n"
     ]
    }
   ],
   "source": [
    "# using del , we can delete on the basis of index \n",
    "\n",
    "l4 = [1,2,3,4,5,6]\n",
    "del l4[4]\n",
    "print(l4)"
   ]
  },
  {
   "cell_type": "code",
   "execution_count": 46,
   "id": "005a1c39",
   "metadata": {},
   "outputs": [
    {
     "name": "stdout",
     "output_type": "stream",
     "text": [
      "[2, 3, 4, 5, 6]\n"
     ]
    }
   ],
   "source": [
    "# using pop() we can delete the value on the basis of index\n",
    "l2 = [2,3,4,5,6,7]\n",
    "l2.pop(-1)\n",
    "\n",
    "print(l2)"
   ]
  },
  {
   "cell_type": "code",
   "execution_count": 50,
   "id": "97511fbb",
   "metadata": {},
   "outputs": [
    {
     "name": "stdout",
     "output_type": "stream",
     "text": [
      "[]\n"
     ]
    }
   ],
   "source": [
    "# using clear(), we can clear total list\n",
    "\n",
    "l3 = [8,9,10]\n",
    "l3.clear()\n",
    "print(l3)"
   ]
  },
  {
   "cell_type": "markdown",
   "id": "524f7fdb",
   "metadata": {},
   "source": [
    "12. Describe how list values and string values are identical."
   ]
  },
  {
   "cell_type": "code",
   "execution_count": null,
   "id": "b54e8f8f",
   "metadata": {},
   "outputs": [],
   "source": [
    "The similarity between Lists and Strings in Python is that both are sequences. \n",
    "1.Lists are mutable but Strings are immutable. \n",
    "2.Elements of a list can be of different types whereas a String only contains characters that are all of String type.\n",
    "3.Can be concatenated or replicated\n",
    "4.Have indexes and slices, be used in for loops,"
   ]
  },
  {
   "cell_type": "markdown",
   "id": "14898dfe",
   "metadata": {},
   "source": [
    "13. What's the difference between tuples and lists?"
   ]
  },
  {
   "cell_type": "code",
   "execution_count": null,
   "id": "7310acf2",
   "metadata": {},
   "outputs": [],
   "source": [
    "1.The key difference between the tuples and lists is that while the tuples are immutable objects the lists are mutable.\n",
    "This means that tuples cannot be changed while the lists can be modified. \n",
    "2.Tuples are more memory efficient than the lists.\n",
    "3.Lists are Mutable, Indexable and Slicable. they can have values added, removed, or changed. \n",
    "4.Tuples are Immutable but Indexable and Slicable. the tuple values cannot be changed at all.\n",
    "5.Tuples are represented using parentheses, (), while lists use the square brackets, []."
   ]
  },
  {
   "cell_type": "code",
   "execution_count": 56,
   "id": "efed823c",
   "metadata": {},
   "outputs": [
    {
     "name": "stdout",
     "output_type": "stream",
     "text": [
      "type of list :  <class 'list'>\n",
      "type of tuple ; <class 'tuple'>\n"
     ]
    }
   ],
   "source": [
    "list = [1,2,3,4] # list used write by sqaure brackets[]\n",
    "tuple = (1,2,3,4) # tuples used write by parenthesis()\n",
    "\n",
    "print('type of list : ', type(list))\n",
    "print('type of tuple ;', type(tuple))"
   ]
  },
  {
   "cell_type": "markdown",
   "id": "49cc6108",
   "metadata": {},
   "source": [
    "14. How do you type a tuple value that only contains the integer 42?"
   ]
  },
  {
   "cell_type": "code",
   "execution_count": null,
   "id": "6d9f608f",
   "metadata": {},
   "outputs": [],
   "source": [
    "(42,) The trailing comma is mandatory. otherwise its considered as a 'int' by python Interpreter"
   ]
  },
  {
   "cell_type": "code",
   "execution_count": 62,
   "id": "d94b4f35",
   "metadata": {},
   "outputs": [
    {
     "name": "stdout",
     "output_type": "stream",
     "text": [
      "type of tuple1 : <class 'int'>\n",
      "type of tuple2 : <class 'tuple'>\n"
     ]
    }
   ],
   "source": [
    "tuple1 = (42)\n",
    "tuple2 = (42,)\n",
    "\n",
    "print('type of tuple1 :', type(tuple1))\n",
    "print('type of tuple2 :', type(tuple2))"
   ]
  },
  {
   "cell_type": "markdown",
   "id": "f6f0b0a5",
   "metadata": {},
   "source": [
    "15. How do you get a list value's tuple form? How do you get a tuple value's list form?"
   ]
  },
  {
   "cell_type": "code",
   "execution_count": null,
   "id": "c63e26ee",
   "metadata": {},
   "outputs": [],
   "source": [
    "The tuple() and list() functions, respectively are used to convert a list to tuple and vice versa"
   ]
  },
  {
   "cell_type": "markdown",
   "id": "c79e749a",
   "metadata": {},
   "source": [
    "16.Variables that \"contain\" list values are not necessarily lists themselves. Instead, what do they contain?"
   ]
  },
  {
   "cell_type": "code",
   "execution_count": null,
   "id": "64401906",
   "metadata": {},
   "outputs": [],
   "source": [
    "They contain references to list values.\n",
    "But for strings and integer values, variables simply contain the string or integer value."
   ]
  },
  {
   "cell_type": "markdown",
   "id": "66bd7366",
   "metadata": {},
   "source": [
    "17. How do you distinguish between copy.copy() and copy.deepcopy()?"
   ]
  },
  {
   "cell_type": "code",
   "execution_count": null,
   "id": "c24d01ad",
   "metadata": {},
   "outputs": [],
   "source": [
    "The copy.copy() function will do a shallow copy of a list, while the copy.deepcopy() function will do a deep copy of a list. \n",
    "That is, only copy.deepcopy() will duplicate any lists inside the list."
   ]
  },
  {
   "cell_type": "code",
   "execution_count": 68,
   "id": "68905a37",
   "metadata": {},
   "outputs": [
    {
     "name": "stdout",
     "output_type": "stream",
     "text": [
      "[1, 2, 3, [56, 67], 5, 6]\n",
      "[1, 2, 3, [56, 67], 5, 6]\n"
     ]
    }
   ],
   "source": [
    "import copy\n",
    "\n",
    "li1 = [1,2,3,[56,67],5,6]\n",
    "\n",
    "li2 = copy.copy(li1)\n",
    "print(li2)\n",
    "\n",
    "li3 = copy.deepcopy(li1)\n",
    "print(li3)"
   ]
  },
  {
   "cell_type": "code",
   "execution_count": null,
   "id": "69ab2c65",
   "metadata": {},
   "outputs": [],
   "source": []
  }
 ],
 "metadata": {
  "kernelspec": {
   "display_name": "Python 3 (ipykernel)",
   "language": "python",
   "name": "python3"
  },
  "language_info": {
   "codemirror_mode": {
    "name": "ipython",
    "version": 3
   },
   "file_extension": ".py",
   "mimetype": "text/x-python",
   "name": "python",
   "nbconvert_exporter": "python",
   "pygments_lexer": "ipython3",
   "version": "3.9.12"
  }
 },
 "nbformat": 4,
 "nbformat_minor": 5
}
