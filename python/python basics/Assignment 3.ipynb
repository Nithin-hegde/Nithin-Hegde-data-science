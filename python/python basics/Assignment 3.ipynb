{
 "cells": [
  {
   "cell_type": "markdown",
   "id": "5479739e",
   "metadata": {},
   "source": [
    " ASSIGNMENT 3:-"
   ]
  },
  {
   "cell_type": "markdown",
   "id": "6a22b688",
   "metadata": {},
   "source": [
    "1. Why are functions advantageous to have in your programs?"
   ]
  },
  {
   "cell_type": "markdown",
   "id": "feed9511",
   "metadata": {},
   "source": [
    "1.Functions reduce the need for duplicate code. This makes programs shorter, easier to read, and easier to update. \n",
    "2.The main advantage of functions is code Reusability\n",
    "3.Increases program readability.\n",
    "4.Divide a complex problem into simpler ones.\n",
    "5.Reduces chances of error.\n",
    "6.Modifying a program becomes easier by using function\n",
    "7.It helps to divide the large programs into small groups so that we can read the code, and debug the program faster and better.\n",
    "8.Python Functions stop us from writing the same logic various times. \n",
    "We can bind the logic in one def and then call the same over and over.\n"
   ]
  },
  {
   "cell_type": "markdown",
   "id": "49cd4f63",
   "metadata": {},
   "source": [
    "2. When does the code in a function run: when it&#39;s specified or when it&#39;s called?"
   ]
  },
  {
   "cell_type": "code",
   "execution_count": null,
   "id": "121eb175",
   "metadata": {},
   "outputs": [],
   "source": [
    "The code in a function executes when the function is called, not when the function is specified. \n",
    "When a function is \"called\" the program \"leaves\" the current section of code and begins to execute the first line inside the function. \n",
    "Example is mentioned below:"
   ]
  },
  {
   "cell_type": "code",
   "execution_count": 5,
   "id": "dc015a82",
   "metadata": {},
   "outputs": [
    {
     "name": "stdout",
     "output_type": "stream",
     "text": [
      "Nithin Nagendra\n",
      "Shakuntala Nagendra\n",
      "Deepa Nagendra\n"
     ]
    }
   ],
   "source": [
    "def first_function(name):\n",
    "    print(name + ' Nagendra')\n",
    "    \n",
    "first_function('Nithin')\n",
    "first_function('Shakuntala')\n",
    "first_function('Deepa')"
   ]
  },
  {
   "cell_type": "markdown",
   "id": "951143df",
   "metadata": {},
   "source": [
    "3.What statement creates a function?"
   ]
  },
  {
   "cell_type": "code",
   "execution_count": null,
   "id": "4d90ac58",
   "metadata": {},
   "outputs": [],
   "source": [
    "A def statement creats a function and this is also called single clause compound statement. used to creates own functions."
   ]
  },
  {
   "cell_type": "code",
   "execution_count": null,
   "id": "34194ca1",
   "metadata": {},
   "outputs": [],
   "source": [
    "def function_name(parameters):\n",
    "    statement(s)"
   ]
  },
  {
   "cell_type": "code",
   "execution_count": 6,
   "id": "7e936ada",
   "metadata": {},
   "outputs": [
    {
     "name": "stdout",
     "output_type": "stream",
     "text": [
      "My name is nithin\n",
      "My name is nagendra\n",
      "My name is Deepa\n"
     ]
    }
   ],
   "source": [
    "#ex 3:\n",
    "def my_name(name):\n",
    "    print('My name is ' + name)\n",
    "    \n",
    "my_name('nithin')\n",
    "my_name('nagendra')\n",
    "my_name('Deepa')"
   ]
  },
  {
   "cell_type": "markdown",
   "id": "a382035f",
   "metadata": {},
   "source": [
    "4. What is the difference between a function and a function call?"
   ]
  },
  {
   "cell_type": "code",
   "execution_count": null,
   "id": "3cef575e",
   "metadata": {},
   "outputs": [],
   "source": [
    "A function is a block of code that does a particular operation and returns a result. \n",
    "It usually accepts inputs as parameters and returns a result. The parameters are not mandatory.\n",
    "A function call is the code used to pass control to a function."
   ]
  },
  {
   "cell_type": "code",
   "execution_count": 10,
   "id": "80b3e093",
   "metadata": {},
   "outputs": [
    {
     "name": "stdout",
     "output_type": "stream",
     "text": [
      "positive\n",
      "positive\n",
      "negative\n"
     ]
    }
   ],
   "source": [
    "# ex 4:-\n",
    "\n",
    "# this is function\n",
    "def type_x(x):\n",
    "    if x > 0:\n",
    "        return ('positive')\n",
    "    else:\n",
    "        return ('negative')\n",
    "    \n",
    "# this is function call \n",
    "print(type_x(10))\n",
    "print(type_x(0.4))\n",
    "print(type_x(-10))"
   ]
  },
  {
   "cell_type": "markdown",
   "id": "473cd59c",
   "metadata": {},
   "source": [
    "5. How many global scopes are there in a Python program? How many local scopes?"
   ]
  },
  {
   "cell_type": "code",
   "execution_count": null,
   "id": "001b4b45",
   "metadata": {},
   "outputs": [],
   "source": [
    "There is one global scope, and a local scope is created whenever a function is called.\n",
    "A variable created inside a function belongs to the local scope of that function, and can only be used inside that function \n",
    "whereas A variable created in the main body of the Python code is a global variable and belongs to the global scope."
   ]
  },
  {
   "cell_type": "code",
   "execution_count": 31,
   "id": "aa4647ca",
   "metadata": {},
   "outputs": [
    {
     "name": "stdout",
     "output_type": "stream",
     "text": [
      "100\n"
     ]
    }
   ],
   "source": [
    "#Example of Local Scope\n",
    "def myfunction():\n",
    "    x = 100\n",
    "    def mylocalfunction():\n",
    "        print(x)\n",
    "    mylocalfunction()\n",
    "myfunction()"
   ]
  },
  {
   "cell_type": "code",
   "execution_count": 26,
   "id": "a776bab2",
   "metadata": {},
   "outputs": [
    {
     "name": "stdout",
     "output_type": "stream",
     "text": [
      "500\n",
      "500\n"
     ]
    }
   ],
   "source": [
    "# example for global scope:-\n",
    "y = 500\n",
    "def my_function():\n",
    "    print(y)\n",
    "\n",
    "print(y)\n",
    "my_function()"
   ]
  },
  {
   "cell_type": "markdown",
   "id": "98a984aa",
   "metadata": {},
   "source": [
    "6. What happens to variables in a local scope when the function call returns?"
   ]
  },
  {
   "cell_type": "code",
   "execution_count": null,
   "id": "4526f1e3",
   "metadata": {},
   "outputs": [],
   "source": [
    "When a function returns, the local scope is destroyed, and all the variables in it are forgotten.\n",
    "A local variable becomes undefined after the function call completes."
   ]
  },
  {
   "cell_type": "markdown",
   "id": "fd041160",
   "metadata": {},
   "source": [
    "7. What is the concept of a return value? Is it possible to have a return value in an expression?"
   ]
  },
  {
   "cell_type": "code",
   "execution_count": null,
   "id": "4d186bba",
   "metadata": {},
   "outputs": [],
   "source": [
    "The Python return statement is a key component of functions and methods. \n",
    "We can use the return statement to make functions send Python objects back to the caller code.These objects are known as the function’s return value. A return value is the value that a function call evaluates to.\n",
    "Like any value, a return value can be used as part of an expression."
   ]
  },
  {
   "cell_type": "markdown",
   "id": "5744cea0",
   "metadata": {},
   "source": [
    "8. If a function does not have a return statement, what is the return value of a call to that function?"
   ]
  },
  {
   "cell_type": "code",
   "execution_count": null,
   "id": "699487b9",
   "metadata": {},
   "outputs": [],
   "source": [
    "If there is no return statement for a function, its return value is None. \n",
    "The function always returns None if explicit return is not written."
   ]
  },
  {
   "cell_type": "markdown",
   "id": "4d01b4ef",
   "metadata": {},
   "source": [
    "9.How do you make a function variable refer to the global variable?"
   ]
  },
  {
   "cell_type": "code",
   "execution_count": null,
   "id": "1936ad32",
   "metadata": {},
   "outputs": [],
   "source": [
    "A global statement will force a variable in a function to refer to the global variable. \n",
    "If you want to refer to a global variable in a function, you can use the global keyword to declare which variables are global."
   ]
  },
  {
   "cell_type": "markdown",
   "id": "0d686726",
   "metadata": {},
   "source": [
    "10.What is the data type of None?"
   ]
  },
  {
   "cell_type": "code",
   "execution_count": null,
   "id": "39847196",
   "metadata": {},
   "outputs": [],
   "source": [
    "Data Type of None is Nonetype"
   ]
  },
  {
   "cell_type": "code",
   "execution_count": 3,
   "id": "61be8abd",
   "metadata": {},
   "outputs": [
    {
     "data": {
      "text/plain": [
       "NoneType"
      ]
     },
     "execution_count": 3,
     "metadata": {},
     "output_type": "execute_result"
    }
   ],
   "source": [
    "# ex 10:-\n",
    "type(None)"
   ]
  },
  {
   "cell_type": "markdown",
   "id": "420dd488",
   "metadata": {},
   "source": [
    "11. What does the sentence import areallyourpetsnamederic do?"
   ]
  },
  {
   "cell_type": "code",
   "execution_count": null,
   "id": "4a62393a",
   "metadata": {},
   "outputs": [],
   "source": [
    "That import statement imports a module named areallyourpetsnamederic."
   ]
  },
  {
   "cell_type": "markdown",
   "id": "8f16cdcc",
   "metadata": {},
   "source": [
    "12. If you had a bacon() feature in a spam module, what would you call it after importing spam?"
   ]
  },
  {
   "cell_type": "code",
   "execution_count": null,
   "id": "ea0cff6a",
   "metadata": {},
   "outputs": [],
   "source": [
    "This function will be called as spam.bacon()"
   ]
  },
  {
   "cell_type": "markdown",
   "id": "8b73b565",
   "metadata": {},
   "source": [
    "13. What can you do to save a programme from crashing if it encounters an error?"
   ]
  },
  {
   "cell_type": "code",
   "execution_count": null,
   "id": "f47dbb01",
   "metadata": {},
   "outputs": [],
   "source": [
    "We can place the line of code that might cause an error in a try clause and use except block to handle the error as mentioned below:"
   ]
  },
  {
   "cell_type": "code",
   "execution_count": 4,
   "id": "9f8d468a",
   "metadata": {},
   "outputs": [
    {
     "name": "stdout",
     "output_type": "stream",
     "text": [
      "1000\n"
     ]
    }
   ],
   "source": [
    "x = 1000\n",
    "try:\n",
    "    print(x)\n",
    "except:\n",
    "    print('except any error')"
   ]
  },
  {
   "cell_type": "markdown",
   "id": "d3041978",
   "metadata": {},
   "source": [
    "14. What is the purpose of the try clause? What is the purpose of the except clause?"
   ]
  },
  {
   "cell_type": "code",
   "execution_count": null,
   "id": "99d691b1",
   "metadata": {},
   "outputs": [],
   "source": [
    "The code that could potentially cause an error goes in the try clause. \n",
    "The code that executes if an error happens goes in the except clause."
   ]
  },
  {
   "cell_type": "code",
   "execution_count": 9,
   "id": "d925f072",
   "metadata": {},
   "outputs": [
    {
     "name": "stdout",
     "output_type": "stream",
     "text": [
      "enter first no.: 10\n",
      "enter second no.: a\n",
      "does not support for strings\n",
      "enter first no.: 10\n",
      "enter second no.: 0\n",
      "b should not be an zero\n",
      "enter first no.: 10\n",
      "enter second no.: 5\n",
      "2.0\n"
     ]
    }
   ],
   "source": [
    "# ex 14 :-\n",
    "while True:\n",
    "    try:\n",
    "        a = int(input('enter first no.: '))\n",
    "        b = int(input('enter second no.: '))\n",
    "        \n",
    "        c = a/b\n",
    "        print(c)\n",
    "        \n",
    "        break\n",
    "        \n",
    "        \n",
    "    except ZeroDivisionError:\n",
    "        print('b should not be an zero')\n",
    "    except ValueError:\n",
    "        print('does not support for strings')"
   ]
  },
  {
   "cell_type": "code",
   "execution_count": null,
   "id": "a0fda950",
   "metadata": {},
   "outputs": [],
   "source": []
  }
 ],
 "metadata": {
  "kernelspec": {
   "display_name": "Python 3 (ipykernel)",
   "language": "python",
   "name": "python3"
  },
  "language_info": {
   "codemirror_mode": {
    "name": "ipython",
    "version": 3
   },
   "file_extension": ".py",
   "mimetype": "text/x-python",
   "name": "python",
   "nbconvert_exporter": "python",
   "pygments_lexer": "ipython3",
   "version": "3.9.12"
  }
 },
 "nbformat": 4,
 "nbformat_minor": 5
}
