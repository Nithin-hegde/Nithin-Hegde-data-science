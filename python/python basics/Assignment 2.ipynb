{
 "cells": [
  {
   "cell_type": "code",
   "execution_count": null,
   "id": "02f19cc7",
   "metadata": {},
   "outputs": [],
   "source": [
    "ASSIGNMENT 2 :-"
   ]
  },
  {
   "cell_type": "code",
   "execution_count": null,
   "id": "d1be8ca0",
   "metadata": {},
   "outputs": [],
   "source": [
    "1.What are the two values of the Boolean data type? How do you write them?"
   ]
  },
  {
   "cell_type": "code",
   "execution_count": null,
   "id": "3439ebdf",
   "metadata": {},
   "outputs": [],
   "source": [
    "Two data types of boolean are True and False. which are denoted by T and F, and all other letters in small case.\n",
    "Type of True and False are \"bool\". Bool is an inbuilt function in python, and neednot to import."
   ]
  },
  {
   "cell_type": "code",
   "execution_count": 3,
   "id": "65f718fd",
   "metadata": {},
   "outputs": [
    {
     "name": "stdout",
     "output_type": "stream",
     "text": [
      "True <class 'bool'>\n",
      "False <class 'bool'>\n"
     ]
    }
   ],
   "source": [
    "#ex 1:\n",
    "a = True\n",
    "b = False\n",
    "print(a, type(a))\n",
    "print(b, type(b))"
   ]
  },
  {
   "cell_type": "code",
   "execution_count": null,
   "id": "c01584d2",
   "metadata": {},
   "outputs": [],
   "source": [
    "2. What are the three different types of Boolean operators?"
   ]
  },
  {
   "cell_type": "code",
   "execution_count": null,
   "id": "95ac7547",
   "metadata": {},
   "outputs": [],
   "source": [
    "Boolean operaters are divided on the basis of mathematical sets and database logic. They connect our search words together to\n",
    "provide a narrow or broaden set of results. 3 different types are 'and' , 'or', 'not'"
   ]
  },
  {
   "cell_type": "code",
   "execution_count": 5,
   "id": "f97de135",
   "metadata": {},
   "outputs": [
    {
     "name": "stdout",
     "output_type": "stream",
     "text": [
      "True\n",
      "True\n",
      "False\n"
     ]
    }
   ],
   "source": [
    "#ex 2:\n",
    "\n",
    "a = 100\n",
    "b = 500\n",
    "\n",
    "print(a>50 and b>300) # boolean and\n",
    "print(a>50 or b > 600) # boolean or\n",
    "print(not(a>50)) # boolean not"
   ]
  },
  {
   "cell_type": "code",
   "execution_count": null,
   "id": "0edea257",
   "metadata": {},
   "outputs": [],
   "source": [
    "3. Make a list of each Boolean operators truth tables (i.e. every possible combination of Boolean\n",
    "values for the operator and what it evaluate )."
   ]
  },
  {
   "cell_type": "code",
   "execution_count": null,
   "id": "81112e7e",
   "metadata": {},
   "outputs": [],
   "source": [
    "Truth tables for and operaters:\n",
    "True and True = True\n",
    "True and False = False\n",
    "False and True = False\n",
    "False and False = False\n",
    "\n",
    "Truth tables for or operaters:\n",
    "True and True = True\n",
    "True and False = True\n",
    "False and True = True\n",
    "False and False = False\n",
    "\n",
    "Truth tables for not operaters:\n",
    "not True = False\n",
    "not False = True"
   ]
  },
  {
   "cell_type": "code",
   "execution_count": null,
   "id": "7a31a5ed",
   "metadata": {},
   "outputs": [],
   "source": [
    "4. What are the values of the following expressions ?\n",
    "\n",
    "1.(5 > 4) and (3 == 5)\n",
    "2.not (5 > 4)\n",
    "3.(5 > 4) or (3 == 5)\n",
    "4.not ((5 > 4) or (3 == 5))\n",
    "5.(True and True) and (True == False)\n",
    "6.(not False) or (not True)"
   ]
  },
  {
   "cell_type": "code",
   "execution_count": 14,
   "id": "de6a55fb",
   "metadata": {},
   "outputs": [
    {
     "name": "stdout",
     "output_type": "stream",
     "text": [
      "False\n",
      "False\n",
      "True\n",
      "False\n",
      "False\n",
      "True\n"
     ]
    }
   ],
   "source": [
    "print((5>4) and (3==5)) # False\n",
    "print(not(5>4)) # False\n",
    "print((5>4) or (3==5)) # True\n",
    "print(not((5 > 4) or (3 == 5))) # False\n",
    "print((True and True) and (True == False)) # False\n",
    "print((not False) or (not True)) # True"
   ]
  },
  {
   "cell_type": "code",
   "execution_count": null,
   "id": "5f56ded0",
   "metadata": {},
   "outputs": [],
   "source": [
    "5. What are the six comparison operators?"
   ]
  },
  {
   "cell_type": "code",
   "execution_count": null,
   "id": "0c676855",
   "metadata": {},
   "outputs": [],
   "source": [
    "six comparison operaters are :\n",
    "1. == : equal  10 == 10\n",
    "2. != : not equal 10 != 11\n",
    "3. >  : greeater than 10 > 9\n",
    "4. <  : less than  10 < 11 \n",
    "5. >= : greater than or equal to 10 >= 9 \n",
    "6. <= : less than or equal to 10 <= 11"
   ]
  },
  {
   "cell_type": "code",
   "execution_count": null,
   "id": "5d3a25f1",
   "metadata": {},
   "outputs": [],
   "source": [
    "6. How do you tell the difference between the equal to and assignment operators?Describe a\n",
    "condition and when you would use one."
   ]
  },
  {
   "cell_type": "code",
   "execution_count": null,
   "id": "47d08b56",
   "metadata": {},
   "outputs": [],
   "source": [
    " '==' is equal to operater which compares the two values and evaluate to a boolean, while '=' is that assignment operater that \n",
    "    stores a value in a variable."
   ]
  },
  {
   "cell_type": "code",
   "execution_count": 19,
   "id": "5cb092c8",
   "metadata": {},
   "outputs": [
    {
     "name": "stdout",
     "output_type": "stream",
     "text": [
      "True\n",
      "10\n"
     ]
    }
   ],
   "source": [
    "# ex 6:\n",
    "\n",
    "a = 10 # this is and equal to operation where value is stored in variable\n",
    "if a == 10: # this is boolean variable where we compare the values of variable\n",
    "    print(a==10) # boolean\n",
    "    print(a) # value as an ouput"
   ]
  },
  {
   "cell_type": "code",
   "execution_count": null,
   "id": "dc41a925",
   "metadata": {},
   "outputs": [],
   "source": [
    "7. Identify the three blocks in this code:\n",
    "spam = 0\n",
    "if spam == 10:\n",
    "print('eggs')\n",
    "if spam > 5:\n",
    "print('bacon')\n",
    "else:\n",
    "print('ham')\n",
    "print('spam')\n",
    "print('spam')"
   ]
  },
  {
   "cell_type": "code",
   "execution_count": null,
   "id": "3549b8bf",
   "metadata": {},
   "outputs": [],
   "source": [
    "In Python, code block refers to a collection of code that is in the same block or indent. \n",
    "This is most commonly found in classes, functions, and loops.\n",
    "Answer for the question is: \n",
    "    ham\n",
    "    spam\n",
    "    spam"
   ]
  },
  {
   "cell_type": "code",
   "execution_count": 20,
   "id": "e61f02ba",
   "metadata": {},
   "outputs": [
    {
     "name": "stdout",
     "output_type": "stream",
     "text": [
      "ham\n",
      "spam\n",
      "spam\n"
     ]
    }
   ],
   "source": [
    "spam = 0\n",
    "if spam == 10:\n",
    "    print('eggs')\n",
    "if spam > 5:\n",
    "    print('bacon')\n",
    "else:\n",
    "    print('ham')\n",
    "    print('spam')\n",
    "    print('spam')"
   ]
  },
  {
   "cell_type": "code",
   "execution_count": null,
   "id": "1241f16b",
   "metadata": {},
   "outputs": [],
   "source": [
    "8. Write code that prints Hello if 1 is stored in spam, prints Howdy if 2 is stored in spam, and prints\n",
    "Greetings! if anything else is stored in spam."
   ]
  },
  {
   "cell_type": "code",
   "execution_count": 33,
   "id": "eb5fdb5a",
   "metadata": {},
   "outputs": [
    {
     "name": "stdout",
     "output_type": "stream",
     "text": [
      "howdy\n"
     ]
    }
   ],
   "source": [
    "#ex 8.1:\n",
    "\n",
    "spam = 2  \n",
    "if spam == 1:\n",
    "    print('hello')\n",
    "elif spam == 2:\n",
    "    print('howdy')\n",
    "else:\n",
    "    print('Greetings')"
   ]
  },
  {
   "cell_type": "code",
   "execution_count": 34,
   "id": "ec7277ab",
   "metadata": {},
   "outputs": [
    {
     "name": "stdout",
     "output_type": "stream",
     "text": [
      "Hello\n",
      "howdy\n",
      "Greetings\n"
     ]
    }
   ],
   "source": [
    "# ex 8.2:\n",
    "\n",
    "def spamstorage(spam):\n",
    "    if spam == 1:\n",
    "        print('Hello')\n",
    "    elif spam == 2:\n",
    "        print('howdy')\n",
    "    else:\n",
    "        print('Greetings')\n",
    "        \n",
    "spamstorage(1)\n",
    "spamstorage(2)\n",
    "spamstorage(5)"
   ]
  },
  {
   "cell_type": "code",
   "execution_count": null,
   "id": "d3471bd7",
   "metadata": {},
   "outputs": [],
   "source": [
    "9.If your programme is stuck in an endless loop, what keys you’ll press?"
   ]
  },
  {
   "cell_type": "code",
   "execution_count": null,
   "id": "1966b253",
   "metadata": {},
   "outputs": [],
   "source": [
    "To stop a program stuck in an infinite loop, we press Ctrl-c or Ctrl-z\n",
    "and to kill/break the infinite loop use Ctrl+c "
   ]
  },
  {
   "cell_type": "code",
   "execution_count": null,
   "id": "7bb89816",
   "metadata": {},
   "outputs": [],
   "source": [
    "10. How can you tell the difference between break and continue?"
   ]
  },
  {
   "cell_type": "code",
   "execution_count": 35,
   "id": "1e76dc78",
   "metadata": {},
   "outputs": [
    {
     "name": "stdout",
     "output_type": "stream",
     "text": [
      "n\n",
      "i\n",
      "t\n",
      "the end\n"
     ]
    }
   ],
   "source": [
    "# use of break statement inside a loop\n",
    "\n",
    "for value in \"nithin\":\n",
    "    if value == \"h\":\n",
    "        break\n",
    "    print(value)\n",
    "    \n",
    "print('the end')"
   ]
  },
  {
   "cell_type": "code",
   "execution_count": 36,
   "id": "5c80fb3e",
   "metadata": {},
   "outputs": [
    {
     "name": "stdout",
     "output_type": "stream",
     "text": [
      "n\n",
      "i\n",
      "t\n",
      "i\n",
      "n\n",
      "the end\n"
     ]
    }
   ],
   "source": [
    "# use of continue statement inside a loop\n",
    "\n",
    "for value in \"nithin\":\n",
    "    if value == \"h\":\n",
    "        continue\n",
    "    print(value)\n",
    "    \n",
    "print('the end')"
   ]
  },
  {
   "cell_type": "code",
   "execution_count": null,
   "id": "705ab70a",
   "metadata": {},
   "outputs": [],
   "source": [
    "11. In a for loop, what is the difference between range(10), range(0, 10), and range(0, 10, 1)?"
   ]
  },
  {
   "cell_type": "code",
   "execution_count": null,
   "id": "d82df0ba",
   "metadata": {},
   "outputs": [],
   "source": [
    "range(10) : this tells the range of 10 which is higher limit always -1, (0,1,2,3,4,5,6,7,8,9)\n",
    "range(0,10) : this tells that starting is 0 and stop is 10 (-1) means 9. range(start, stop)\n",
    "range(0,10,1) : this tells that staring is 0 and stop is 10(-1) means 9 and with a jump of +1.\n",
    "              \n",
    "        range(start,stop,step)\n",
    "    \n",
    "    These provides same results."
   ]
  },
  {
   "cell_type": "code",
   "execution_count": 53,
   "id": "de72e80f",
   "metadata": {},
   "outputs": [
    {
     "name": "stdout",
     "output_type": "stream",
     "text": [
      "0 1 2 3 4 5 6 7 8 9 \n",
      "\n",
      "0 1 2 3 4 5 6 7 8 9 \n",
      "\n",
      "0 1 2 3 4 5 6 7 8 9 "
     ]
    }
   ],
   "source": [
    "# range(10)\n",
    "\n",
    "for i in range(10):\n",
    "    print(i, end=' ')\n",
    "print('\\n')\n",
    "\n",
    "# range(0,10):\n",
    "for i in range(0,10):\n",
    "    print(i, end=' ')\n",
    "print('\\n')\n",
    "\n",
    "# range(0,10,1):\n",
    "for i in range(0,10,1):\n",
    "    print(i, end=' ')"
   ]
  },
  {
   "cell_type": "code",
   "execution_count": 44,
   "id": "5cf437a2",
   "metadata": {},
   "outputs": [
    {
     "name": "stdout",
     "output_type": "stream",
     "text": [
      "sum of a number :  45\n"
     ]
    }
   ],
   "source": [
    "# range(0,10)\n",
    "a = 0\n",
    "for i in range(0,10):\n",
    "    a = a + i\n",
    "print('sum of a number : ', a)"
   ]
  },
  {
   "cell_type": "code",
   "execution_count": 46,
   "id": "b37b1596",
   "metadata": {},
   "outputs": [
    {
     "name": "stdout",
     "output_type": "stream",
     "text": [
      "sum of a number :  45\n"
     ]
    }
   ],
   "source": [
    "# range(0,10,1)\n",
    "a = 0\n",
    "for i in range(0,10,1):\n",
    "    a = a + i\n",
    "print('sum of a number : ', a)"
   ]
  },
  {
   "cell_type": "code",
   "execution_count": null,
   "id": "e6bb3da8",
   "metadata": {},
   "outputs": [],
   "source": [
    "12. Write a short program that prints the numbers 1 to 10 using a for loop. Then write an equivalent\n",
    "program that prints the numbers 1 to 10 using a while loop."
   ]
  },
  {
   "cell_type": "code",
   "execution_count": 58,
   "id": "0e03a650",
   "metadata": {},
   "outputs": [
    {
     "name": "stdout",
     "output_type": "stream",
     "text": [
      "---------- using for loop ----------\n",
      "1 2 3 4 5 6 7 8 9 10 \n",
      "\n",
      "---------- using while loop ----------\n",
      "1 2 3 4 5 6 7 8 9 10 "
     ]
    }
   ],
   "source": [
    "# print (1,11) using for loop:\n",
    "\n",
    "print('-'*10, 'using for loop', '-'*10)\n",
    "for i in range(1,11):\n",
    "    print(i, end=' ')\n",
    "print('\\n')\n",
    "\n",
    "# print (1,11) using  while loop:\n",
    "print('-'*10, 'using while loop', '-'*10)\n",
    "i = 1\n",
    "while i <= 10:\n",
    "    print(i, end=' ')\n",
    "    i = i +1"
   ]
  },
  {
   "cell_type": "code",
   "execution_count": null,
   "id": "88f6c803",
   "metadata": {},
   "outputs": [],
   "source": [
    "13. If you had a function named bacon() inside a module named spam, how would you call it after\n",
    "importing spam?"
   ]
  },
  {
   "cell_type": "code",
   "execution_count": null,
   "id": "7b67452a",
   "metadata": {},
   "outputs": [],
   "source": [
    "this function is called as spam.bacon()"
   ]
  }
 ],
 "metadata": {
  "kernelspec": {
   "display_name": "Python 3 (ipykernel)",
   "language": "python",
   "name": "python3"
  },
  "language_info": {
   "codemirror_mode": {
    "name": "ipython",
    "version": 3
   },
   "file_extension": ".py",
   "mimetype": "text/x-python",
   "name": "python",
   "nbconvert_exporter": "python",
   "pygments_lexer": "ipython3",
   "version": "3.9.12"
  }
 },
 "nbformat": 4,
 "nbformat_minor": 5
}
