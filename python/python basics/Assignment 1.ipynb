{
 "cells": [
  {
   "cell_type": "code",
   "execution_count": null,
   "id": "c7dd5511",
   "metadata": {},
   "outputs": [],
   "source": [
    "ASSIGNMENT 1"
   ]
  },
  {
   "cell_type": "code",
   "execution_count": null,
   "id": "4e94cbc1",
   "metadata": {},
   "outputs": [],
   "source": [
    "1. In the below elements which of them are values or an expression? eg:- values can be\n",
    "integer or string and expressions will be mathematical operators.\n",
    "\n",
    "*,'hello', -87.8,-,/,+,6"
   ]
  },
  {
   "cell_type": "code",
   "execution_count": null,
   "id": "6bd6476f",
   "metadata": {},
   "outputs": [],
   "source": [
    "There are 4 operaters and 3 expressions\n",
    "operaters = * , - , / , +\n",
    "expressions = 'hello', -87.8 , 6"
   ]
  },
  {
   "cell_type": "code",
   "execution_count": null,
   "id": "d655822f",
   "metadata": {},
   "outputs": [],
   "source": [
    "2. What is the difference between string and variable?"
   ]
  },
  {
   "cell_type": "code",
   "execution_count": null,
   "id": "7e37bd06",
   "metadata": {},
   "outputs": [],
   "source": [
    "A variable is used to store the information and a string is an information that is stored in a variable.we need to assign\n",
    "string to an variable. and we can assign value to the variable.\n",
    "\n",
    "ex: a = 5 , b = 'nithin'\n",
    "    \n",
    "A String is a group of characters or a single character usually enclosed in Double quotes \" \" or single quotes ' '.\n",
    "Even triple quotes can be used in Python but generally used to represent multiline strings and docstrings. \n",
    "Example: my_string = 'nithin, or \"nithin\"."
   ]
  },
  {
   "cell_type": "code",
   "execution_count": null,
   "id": "f0e93186",
   "metadata": {},
   "outputs": [],
   "source": [
    "3. Describe three different data types."
   ]
  },
  {
   "cell_type": "code",
   "execution_count": null,
   "id": "bea7296d",
   "metadata": {},
   "outputs": [],
   "source": [
    "There are 3 types of data 'int', 'float','complex' and 'str'\n",
    "\n",
    "'int'    : we can used to represent a whole number or integral value. ex int_num = 10\n",
    "'float'  : we can used to represent a floating point values or decimal number values float_num = 10.10\n",
    "'complex': we can used to represent a complex number. where complex num = real num + imaginary num.\n",
    "           ex: complex_num = 40 + 6j where 40 is real num and 6j is imaginary num.\n",
    "'string' : we can use a single character or group character which is enclosed by single or double quates.'' or \" \"\n",
    "           ex : str_chr = 'nithin' or '110' \n"
   ]
  },
  {
   "cell_type": "code",
   "execution_count": 3,
   "id": "83606c88",
   "metadata": {},
   "outputs": [
    {
     "name": "stdout",
     "output_type": "stream",
     "text": [
      "110 <class 'int'>\n",
      "11.11 <class 'float'>\n",
      "(11+11j) <class 'complex'>\n",
      "10 <class 'str'>\n"
     ]
    }
   ],
   "source": [
    "# ex for int data type:\n",
    "int_num = 110\n",
    "print(int_num, type(int_num))\n",
    "\n",
    "# ex for float data type:\n",
    "float_num = 11.11\n",
    "print(float_num, type(float_num))\n",
    "\n",
    "# ex for complex data type:\n",
    "complex_num = 11 + 11j\n",
    "print(complex_num, type(complex_num))\n",
    "\n",
    "#ex for string data type\n",
    "string_chr = '10'\n",
    "print(string_chr, type(string_chr))"
   ]
  },
  {
   "cell_type": "code",
   "execution_count": null,
   "id": "d46dac75",
   "metadata": {},
   "outputs": [],
   "source": [
    "4. What is an expression made up of? What do all expressions do?"
   ]
  },
  {
   "cell_type": "code",
   "execution_count": null,
   "id": "f9992bdd",
   "metadata": {},
   "outputs": [],
   "source": [
    "An expression is a combination of values, variables, operators, and calls to functions. Expressions need to be evaluated. \n",
    "If we ask Python to print an expression, the interpreter evaluates the expression and displays the result. \n",
    "An expression is evaluated as per the precedence of its operators. \n",
    "So that if there is more than one operator in an expression, their precedence decides which operation will be performed first."
   ]
  },
  {
   "cell_type": "code",
   "execution_count": 5,
   "id": "20369feb",
   "metadata": {},
   "outputs": [
    {
     "data": {
      "text/plain": [
       "37.0"
      ]
     },
     "execution_count": 5,
     "metadata": {},
     "output_type": "execute_result"
    }
   ],
   "source": [
    "# ex for expression :\n",
    "\n",
    "10*20/5+3-6 # this is an expression that python will interpretes and provides output as 58. \n",
    "# which will be calc on basis of BADMAS RULE"
   ]
  },
  {
   "cell_type": "code",
   "execution_count": null,
   "id": "4dc1945d",
   "metadata": {},
   "outputs": [],
   "source": [
    "5. This assignment statements, like spam = 10. What is the difference between an\n",
    "expression and a statement?"
   ]
  },
  {
   "cell_type": "code",
   "execution_count": null,
   "id": "7d98df0b",
   "metadata": {},
   "outputs": [],
   "source": [
    "Statements represent an action or command. This is an instruction that python will interprete. when we type a statements, then \n",
    "python interpretes and gives a results as statements.\n",
    "ex: print statements, assignment statements,looping and conditional statements.\n",
    "ex: my_name = \" My name is nithin \" \n",
    "    \n",
    "Expression is a combination of variables, operations and values that yields a result in terms of value. when we provides\n",
    "expression in the prompt, then interpreter evaluates it and gives us a proper output. It performs on the basis of operaters,\n",
    "if there are more than one operater then based on the precedence that provides the output. ex: *,+,-,/"
   ]
  },
  {
   "cell_type": "code",
   "execution_count": 10,
   "id": "ff7073eb",
   "metadata": {},
   "outputs": [
    {
     "name": "stdout",
     "output_type": "stream",
     "text": [
      "nithin\n"
     ]
    }
   ],
   "source": [
    "# ex for expression:\n",
    "5*6/2-8+10 \n",
    "\n",
    "# ex for statements:\n",
    "my_name = \"My name is nithin\" # this is a statement\n",
    "print(\"nithin\")"
   ]
  },
  {
   "cell_type": "code",
   "execution_count": null,
   "id": "5af09918",
   "metadata": {},
   "outputs": [],
   "source": [
    "6. After running the following code, what does the variable bacon contain?\n",
    "bacon = 22\n",
    "bacon + 1"
   ]
  },
  {
   "cell_type": "code",
   "execution_count": null,
   "id": "feb5b0fe",
   "metadata": {},
   "outputs": [],
   "source": [
    "The variable bacon is set to 22 .The expression bacon + 1 does not reassign the value in bacon \n",
    "(that would the case if the expression is like bacon = bacon + 1 instead of bacon + 1)\n",
    "\n",
    "variable bacon conatins 22 and the out of the bacon + 1 is 23"
   ]
  },
  {
   "cell_type": "code",
   "execution_count": 13,
   "id": "91b89cf6",
   "metadata": {},
   "outputs": [
    {
     "name": "stdout",
     "output_type": "stream",
     "text": [
      "22\n"
     ]
    }
   ],
   "source": [
    "# ex \n",
    "bacon = 22\n",
    "bacon + 1\n",
    "print(bacon)"
   ]
  },
  {
   "cell_type": "code",
   "execution_count": 14,
   "id": "58795929",
   "metadata": {},
   "outputs": [
    {
     "data": {
      "text/plain": [
       "23"
      ]
     },
     "execution_count": 14,
     "metadata": {},
     "output_type": "execute_result"
    }
   ],
   "source": [
    "# ex 2\n",
    "bacon = 22\n",
    "bacon + 1"
   ]
  },
  {
   "cell_type": "code",
   "execution_count": null,
   "id": "d44868fd",
   "metadata": {},
   "outputs": [],
   "source": [
    "7. What should the values of the following two terms be?\n",
    "'spam'+'spamspam'\n",
    "'spam'*3"
   ]
  },
  {
   "cell_type": "code",
   "execution_count": null,
   "id": "d5512599",
   "metadata": {},
   "outputs": [],
   "source": [
    "Both expressions evaluate to the string 'spamspamspam' Where as the first expression follows String Concatentation \n",
    " second expression follows String Multiplication"
   ]
  },
  {
   "cell_type": "code",
   "execution_count": 15,
   "id": "c9ef1893",
   "metadata": {},
   "outputs": [
    {
     "name": "stdout",
     "output_type": "stream",
     "text": [
      "spamspamspam\n",
      "spamspamspam\n"
     ]
    }
   ],
   "source": [
    "#'spam'+'spamspam' # string concatinatio\n",
    "print('spam'+'spamspam')\n",
    "\n",
    "#'spam'*3 # string multiplication\n",
    "print('spam'*3)\n"
   ]
  },
  {
   "cell_type": "code",
   "execution_count": null,
   "id": "8efccc89",
   "metadata": {},
   "outputs": [],
   "source": [
    "8. Why is eggs a valid variable name while 100 is invalid?"
   ]
  },
  {
   "cell_type": "code",
   "execution_count": null,
   "id": "7d98f211",
   "metadata": {},
   "outputs": [],
   "source": [
    "As per python, variable cannot be begin with a variabl. Rules of variable are:\n",
    "\n",
    "    1. Variable can start with a letter or underscore character.\n",
    "    2. Variable cannot start with with number character.\n",
    "    3. Variable can start with alpha numeric and underscore character(a to z , 0 to 9 , _).\n",
    "    4.Variable names are case sensitive ( name and NAME are different variable)\n",
    "    5. Reserved words(keywords) cannot be used as variable."
   ]
  },
  {
   "cell_type": "code",
   "execution_count": 18,
   "id": "800b54d2",
   "metadata": {},
   "outputs": [
    {
     "ename": "SyntaxError",
     "evalue": "cannot assign to literal (794158629.py, line 4)",
     "output_type": "error",
     "traceback": [
      "\u001b[1;36m  Input \u001b[1;32mIn [18]\u001b[1;36m\u001b[0m\n\u001b[1;33m    100 = \"nithin\" # Invalid Variable\u001b[0m\n\u001b[1;37m    ^\u001b[0m\n\u001b[1;31mSyntaxError\u001b[0m\u001b[1;31m:\u001b[0m cannot assign to literal\n"
     ]
    }
   ],
   "source": [
    "# ex 8\n",
    "\n",
    "eggs = \"nithin\" # valid variable\n",
    "100 = \"nithin\" # Invalid Variable\n",
    "\n",
    "print(eggs)\n",
    "print(a100)"
   ]
  },
  {
   "cell_type": "code",
   "execution_count": null,
   "id": "1a406da9",
   "metadata": {},
   "outputs": [],
   "source": [
    "9. What three functions can be used to get the integer, floating-point number, or string\n",
    "version of a value?"
   ]
  },
  {
   "cell_type": "code",
   "execution_count": null,
   "id": "8abbda1c",
   "metadata": {},
   "outputs": [],
   "source": [
    "int(), float(), str() functions will convert the values into respective integer, floating point number and string "
   ]
  },
  {
   "cell_type": "code",
   "execution_count": 30,
   "id": "7396d6da",
   "metadata": {},
   "outputs": [
    {
     "name": "stdout",
     "output_type": "stream",
     "text": [
      "int(10) - 10 <class 'int'>\n",
      "float(10) - 10.0 <class 'float'>\n",
      "str(10) - 10 <class 'str'>\n"
     ]
    }
   ],
   "source": [
    "#ex 9 \n",
    " \n",
    "print('int(10) -',int(10) , type(int(10))) # int() converts input to int\n",
    "print('float(10) -',float(10) , type(float(10))) # float() converts input to float\n",
    "print('str(10) -', str(10) , type(str(10))) # str() converts input to str"
   ]
  },
  {
   "cell_type": "code",
   "execution_count": null,
   "id": "cda5d314",
   "metadata": {},
   "outputs": [],
   "source": [
    "10. Why does this expression cause an error? How can you fix it?\n",
    "'I have eaten ' + 99 + 'burritos.'"
   ]
  },
  {
   "cell_type": "code",
   "execution_count": 31,
   "id": "9c52afb7",
   "metadata": {},
   "outputs": [
    {
     "ename": "TypeError",
     "evalue": "can only concatenate str (not \"int\") to str",
     "output_type": "error",
     "traceback": [
      "\u001b[1;31m---------------------------------------------------------------------------\u001b[0m",
      "\u001b[1;31mTypeError\u001b[0m                                 Traceback (most recent call last)",
      "Input \u001b[1;32mIn [31]\u001b[0m, in \u001b[0;36m<cell line: 1>\u001b[1;34m()\u001b[0m\n\u001b[1;32m----> 1\u001b[0m \u001b[38;5;124;43m'\u001b[39;49m\u001b[38;5;124;43mI have eaten \u001b[39;49m\u001b[38;5;124;43m'\u001b[39;49m\u001b[43m \u001b[49m\u001b[38;5;241;43m+\u001b[39;49m\u001b[43m \u001b[49m\u001b[38;5;241;43m99\u001b[39;49m \u001b[38;5;241m+\u001b[39m \u001b[38;5;124m'\u001b[39m\u001b[38;5;124mburritos.\u001b[39m\u001b[38;5;124m'\u001b[39m\n",
      "\u001b[1;31mTypeError\u001b[0m: can only concatenate str (not \"int\") to str"
     ]
    }
   ],
   "source": [
    "'I have eaten ' + 99 + 'burritos.'"
   ]
  },
  {
   "cell_type": "code",
   "execution_count": null,
   "id": "f3f220ba",
   "metadata": {},
   "outputs": [],
   "source": [
    "reason for above error is 99 is not an string and we can not concatinate string with an int. so we need to do typecasting\n",
    "for 99 to resolve this error."
   ]
  },
  {
   "cell_type": "code",
   "execution_count": 34,
   "id": "e5d1784e",
   "metadata": {},
   "outputs": [
    {
     "data": {
      "text/plain": [
       "'I have eaten 99 burritos'"
      ]
     },
     "execution_count": 34,
     "metadata": {},
     "output_type": "execute_result"
    }
   ],
   "source": [
    "'I have eaten ' + str(99) + ' burritos'"
   ]
  },
  {
   "cell_type": "code",
   "execution_count": null,
   "id": "564ebd2f",
   "metadata": {},
   "outputs": [],
   "source": []
  }
 ],
 "metadata": {
  "kernelspec": {
   "display_name": "Python 3 (ipykernel)",
   "language": "python",
   "name": "python3"
  },
  "language_info": {
   "codemirror_mode": {
    "name": "ipython",
    "version": 3
   },
   "file_extension": ".py",
   "mimetype": "text/x-python",
   "name": "python",
   "nbconvert_exporter": "python",
   "pygments_lexer": "ipython3",
   "version": "3.9.12"
  }
 },
 "nbformat": 4,
 "nbformat_minor": 5
}
