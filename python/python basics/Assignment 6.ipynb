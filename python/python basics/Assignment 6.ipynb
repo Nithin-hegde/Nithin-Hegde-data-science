{
 "cells": [
  {
   "cell_type": "markdown",
   "id": "38a6f09a",
   "metadata": {},
   "source": [
    "ASSOGNMENT 6:-"
   ]
  },
  {
   "cell_type": "markdown",
   "id": "d825d837",
   "metadata": {},
   "source": [
    "1.What are Escape characters ? and how do you use them ?"
   ]
  },
  {
   "cell_type": "code",
   "execution_count": null,
   "id": "3d254a65",
   "metadata": {},
   "outputs": [],
   "source": [
    "Escape characters represent characters in string values that would otherwise be difficult or impossible to type into code. \n",
    "we can use the backslash character to escape a single character or symbol.\n",
    "There are \\ or \\\\ backlash used to escape a caharacter."
   ]
  },
  {
   "cell_type": "code",
   "execution_count": 14,
   "id": "05a24952",
   "metadata": {},
   "outputs": [
    {
     "name": "stdout",
     "output_type": "stream",
     "text": [
      "We are Indian's\n",
      "including one \\ (backlash).\n"
     ]
    }
   ],
   "source": [
    "text = 'We are Indian\\'s' # using one backlash\n",
    "print(text)\n",
    "\n",
    "text1 = \"including one \\\\ (backlash).\" # using double backlash\n",
    "print(text1)"
   ]
  },
  {
   "cell_type": "code",
   "execution_count": null,
   "id": "4410c75d",
   "metadata": {},
   "outputs": [],
   "source": [
    "2. What do the escape characters n and t stand for?"
   ]
  },
  {
   "cell_type": "code",
   "execution_count": null,
   "id": "c5e4e1cb",
   "metadata": {},
   "outputs": [],
   "source": [
    "\\n is a newline, \\t is a tab"
   ]
  },
  {
   "cell_type": "code",
   "execution_count": 16,
   "id": "d67de4c2",
   "metadata": {},
   "outputs": [
    {
     "name": "stdout",
     "output_type": "stream",
     "text": [
      "Hello\n",
      "World..!\n",
      "Hello\tworld..!\n",
      "World..!\n"
     ]
    }
   ],
   "source": [
    "# ex for \\n\n",
    "text2 = 'Hello\\nWorld..!'\n",
    "print(text2)\n",
    "\n",
    "#ex for \\t\n",
    "text3 = 'Hello\\tworld..!'\n",
    "print(text3)\n",
    "\n",
    "text4 = 'Hello\\rWorld..!' # \\r is used to carriage return a before word\n",
    "print(text4)"
   ]
  },
  {
   "cell_type": "markdown",
   "id": "267de4dd",
   "metadata": {},
   "source": [
    "3. What is the way to include backslash characters in a string?"
   ]
  },
  {
   "cell_type": "code",
   "execution_count": null,
   "id": "894d37ec",
   "metadata": {},
   "outputs": [],
   "source": [
    " The \\\\ escape character will represent the backslash character in a string"
   ]
  },
  {
   "cell_type": "code",
   "execution_count": 19,
   "id": "80309671",
   "metadata": {},
   "outputs": [
    {
     "name": "stdout",
     "output_type": "stream",
     "text": [
      "We can include single \\ backlash\n"
     ]
    }
   ],
   "source": [
    "#ex is:-\n",
    "text5 = \"We can include single \\\\ backlash\"\n",
    "print(text5)"
   ]
  },
  {
   "cell_type": "markdown",
   "id": "43d6070f",
   "metadata": {},
   "source": [
    "4.The string \"Howl's Moving Castle\" is a correct value. \n",
    "Why isn't the single quote character in the word Howl's not escaped a problem ?"
   ]
  },
  {
   "cell_type": "code",
   "execution_count": null,
   "id": "47261fbc",
   "metadata": {},
   "outputs": [],
   "source": [
    "The string \"Howl's Moving Castle\" escaped the problem because it is wrapped inside double quotes.\n",
    "if its wrapped inside single quotes then we have to use escape character \\' to show single quote in the final output.\n",
    "The single quote in Howl's is fine because you've used double quotes to mark the beginning and end of the string.\n",
    "So, output is currect"
   ]
  },
  {
   "cell_type": "code",
   "execution_count": 24,
   "id": "cde7328a",
   "metadata": {},
   "outputs": [
    {
     "name": "stdout",
     "output_type": "stream",
     "text": [
      "Howl's Moving Castle\n"
     ]
    }
   ],
   "source": [
    "text6 = \"Howl's Moving Castle\"\n",
    "print(text6)"
   ]
  },
  {
   "cell_type": "code",
   "execution_count": null,
   "id": "fd8ec071",
   "metadata": {},
   "outputs": [],
   "source": [
    "5.How do you write a string of newlines if you don't want to use the n character?"
   ]
  },
  {
   "cell_type": "code",
   "execution_count": null,
   "id": "308e33c8",
   "metadata": {},
   "outputs": [],
   "source": [
    "Multiline string allow you to use newlines in string without the \\n escape character\n",
    "this is using three quates at a time. '''"
   ]
  },
  {
   "cell_type": "code",
   "execution_count": 26,
   "id": "0ccfdde0",
   "metadata": {},
   "outputs": [
    {
     "name": "stdout",
     "output_type": "stream",
     "text": [
      "Python in ML.\n",
      "Python in Ai\n",
      "python in Dl\n"
     ]
    }
   ],
   "source": [
    "# ex:\n",
    "text7 = '''Python in ML.\n",
    "Python in Ai\n",
    "python in Dl'''\n",
    "\n",
    "print(text7)"
   ]
  },
  {
   "cell_type": "markdown",
   "id": "3250e2a5",
   "metadata": {},
   "source": [
    "6.What are the values of the given expressions ?\n",
    "'Hello, world!'[1]\n",
    "'Hello, world!'[0:5]\n",
    "'Hello, world!'[:5]\n",
    "'Hello, world!'[3:]"
   ]
  },
  {
   "cell_type": "code",
   "execution_count": 32,
   "id": "4afda1cb",
   "metadata": {},
   "outputs": [
    {
     "name": "stdout",
     "output_type": "stream",
     "text": [
      "value of Hello, world!  : e\n",
      "value of Hello, world!  : Hello\n",
      "value of Hello, world!  : Hello\n",
      "value of Hello, world!  : lo, world!\n"
     ]
    }
   ],
   "source": [
    "print('value of Hello, world!  :','Hello, world!'[1])\n",
    "print('value of Hello, world!  :','Hello, world!'[0:5])\n",
    "print('value of Hello, world!  :','Hello, world!'[:5])\n",
    "print('value of Hello, world!  :','Hello, world!'[3:])"
   ]
  },
  {
   "cell_type": "markdown",
   "id": "862ea983",
   "metadata": {},
   "source": [
    "7.What are the values of the following expressions \n",
    "'Hello'.upper()\n",
    "'Hello'.upper().isupper()\n",
    "'Hello'.upper().lower()"
   ]
  },
  {
   "cell_type": "code",
   "execution_count": 34,
   "id": "2b4bdac4",
   "metadata": {},
   "outputs": [
    {
     "name": "stdout",
     "output_type": "stream",
     "text": [
      "HELLO\n",
      "True\n",
      "hello\n"
     ]
    }
   ],
   "source": [
    "print('Hello'.upper())\n",
    "print('Hello'.upper().isupper())\n",
    "print('Hello'.upper().lower())"
   ]
  },
  {
   "cell_type": "markdown",
   "id": "8e61f65e",
   "metadata": {},
   "source": [
    "8.What are the values of the following expressions ?\n",
    "'Remember, remember, the fifith of July.'.split()\n",
    "-'.join('There can only one'.split())"
   ]
  },
  {
   "cell_type": "code",
   "execution_count": 36,
   "id": "1f908757",
   "metadata": {},
   "outputs": [
    {
     "name": "stdout",
     "output_type": "stream",
     "text": [
      "['Remember,', 'remember,', 'the', 'fifith', 'of', 'July.']\n",
      "There-can-only-one\n"
     ]
    }
   ],
   "source": [
    "print('Remember, remember, the fifith of July.'.split())\n",
    "print('-'.join('There can only one'.split()))"
   ]
  },
  {
   "cell_type": "markdown",
   "id": "2678b304",
   "metadata": {},
   "source": [
    "9.What are the methods for right-justifying, left-justifying and centering a string ?"
   ]
  },
  {
   "cell_type": "code",
   "execution_count": null,
   "id": "bf2eb193",
   "metadata": {},
   "outputs": [],
   "source": [
    "The rjust(),ljust(),center() string methods, respectively"
   ]
  },
  {
   "cell_type": "code",
   "execution_count": 45,
   "id": "7d892632",
   "metadata": {},
   "outputs": [
    {
     "name": "stdout",
     "output_type": "stream",
     "text": [
      "**************nithin\n",
      "nithin**************\n",
      "*******nithin*******\n"
     ]
    }
   ],
   "source": [
    "#ex for rjust()\n",
    "text8 = 'nithin'\n",
    "x = text8.rjust(20,'*')\n",
    "print(x)\n",
    "\n",
    "# for ljust()\n",
    "y = text8.ljust(20,'*')\n",
    "print(y)\n",
    "\n",
    "# for center()\n",
    "z = text8.center(20,'*')\n",
    "print(z)\n"
   ]
  },
  {
   "cell_type": "markdown",
   "id": "0b41e698",
   "metadata": {},
   "source": [
    "10. What is the best way to remove whitespace characters from the start or end?"
   ]
  },
  {
   "cell_type": "code",
   "execution_count": null,
   "id": "25b33b30",
   "metadata": {},
   "outputs": [],
   "source": [
    "The lstrip() and rstrip() methods remove whitesapce characters from the left and right ends of a string respectively"
   ]
  },
  {
   "cell_type": "code",
   "execution_count": 50,
   "id": "30844053",
   "metadata": {},
   "outputs": [
    {
     "name": "stdout",
     "output_type": "stream",
     "text": [
      "*******nithin*******\n",
      "nithin\n",
      "nithin*******\n",
      "*******nithin\n"
     ]
    }
   ],
   "source": [
    "print(z)\n",
    "# using strip(), we can remove all the whitespaces.'*'\n",
    "print(z.strip('*'))\n",
    "\n",
    "# using lstrip(), we cam remove all the left side whitespaces.\n",
    "print(z.lstrip('*'))\n",
    "\n",
    "# using rstrip(), we can remove all the right side whitespaces\n",
    "print(z.rstrip('*'))"
   ]
  }
 ],
 "metadata": {
  "kernelspec": {
   "display_name": "Python 3 (ipykernel)",
   "language": "python",
   "name": "python3"
  },
  "language_info": {
   "codemirror_mode": {
    "name": "ipython",
    "version": 3
   },
   "file_extension": ".py",
   "mimetype": "text/x-python",
   "name": "python",
   "nbconvert_exporter": "python",
   "pygments_lexer": "ipython3",
   "version": "3.9.12"
  }
 },
 "nbformat": 4,
 "nbformat_minor": 5
}
