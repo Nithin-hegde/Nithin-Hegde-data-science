{
 "cells": [
  {
   "cell_type": "markdown",
   "id": "cb8e584c",
   "metadata": {},
   "source": [
    "ASSIGNMENT 5"
   ]
  },
  {
   "cell_type": "markdown",
   "id": "cbd478ac",
   "metadata": {},
   "source": [
    "1. What does an empty dictionary's code look like?"
   ]
  },
  {
   "cell_type": "code",
   "execution_count": null,
   "id": "bad72975",
   "metadata": {},
   "outputs": [],
   "source": [
    "Empty dictionary is represented by two empty curly brackets\n",
    "d = {} or d = dict()"
   ]
  },
  {
   "cell_type": "code",
   "execution_count": 3,
   "id": "dba072d3",
   "metadata": {},
   "outputs": [
    {
     "name": "stdout",
     "output_type": "stream",
     "text": [
      "{}\n",
      "lenght of dict :  0\n",
      "type of dict :  <class 'dict'>\n"
     ]
    }
   ],
   "source": [
    "# Ex for empty dictionary. using { }\n",
    "\n",
    "empty_dict  = {}\n",
    "\n",
    "print(empty_dict) # empty dictionary\n",
    "print('lenght of dict : ', len(empty_dict)) # lenght of empty dictionary\n",
    "print('type of dict : ', type(empty_dict)) # type of dictionary"
   ]
  },
  {
   "cell_type": "markdown",
   "id": "da099bc3",
   "metadata": {},
   "source": [
    "2. what is the value of dictionary value with key 'foo' and the value 42 ?"
   ]
  },
  {
   "cell_type": "code",
   "execution_count": null,
   "id": "45e6b177",
   "metadata": {},
   "outputs": [],
   "source": [
    " value of dictionary {'foo': 42}"
   ]
  },
  {
   "cell_type": "markdown",
   "id": "47dc20b5",
   "metadata": {},
   "source": [
    "3. What is the most significant distinction between a dictionary and a list?"
   ]
  },
  {
   "cell_type": "code",
   "execution_count": null,
   "id": "de6980bb",
   "metadata": {},
   "outputs": [],
   "source": [
    "1.Dictionaries are represented by {} where as listed are represented by []. \n",
    "2. The Items stored in a dictionary are Unordered , while the items in a list are ordered.\n",
    "3. Dictionary in Python on the other hand is an unordered collection of data values, used to store data values like a map, which unlike other Data Types that hold only single value as an element, Dictionary holds key:value pair. Key-value is provided in the dictionary to make it more optimized. Each key-value pair in a Dictionary is separated by a colon :, whereas each key is separated by a ‘comma’.\n",
    "4.Lists are just like the arrays, declared in other languages. Lists need not be homogeneous always which makes it a most powerful tool in Python. A single list may contain DataTypes like Integers, Strings, as well as Objects. Lists are mutable, and hence, they can be altered even after their creation."
   ]
  },
  {
   "cell_type": "code",
   "execution_count": 3,
   "id": "c0f030db",
   "metadata": {},
   "outputs": [
    {
     "name": "stdout",
     "output_type": "stream",
     "text": [
      "dictionary with integer keys :  {1: 'nithin', 2: 'sachin', 3: 'ganesh'}\n",
      "nithin\n",
      "ganesh\n"
     ]
    }
   ],
   "source": [
    "# ex 3:-\n",
    "\n",
    "#dictionary\n",
    "Dict ={1 : 'nithin', 2 : 'sachin', 3 : 'ganesh'}\n",
    "print('dictionary with integer keys : ', Dict)\n",
    "\n",
    "# List:\n",
    "list = ['nithin','sachin','ganesh']\n",
    "print(list[0])\n",
    "print(list[2])"
   ]
  },
  {
   "cell_type": "markdown",
   "id": "8e6892ee",
   "metadata": {},
   "source": [
    "4.What happens if you try to access spam ['foo'] if spam is {'bar':100} ?"
   ]
  },
  {
   "cell_type": "code",
   "execution_count": null,
   "id": "42b3ccc1",
   "metadata": {},
   "outputs": [],
   "source": [
    "when we assign dict spam = {'bar':100}, then run spam['foo'], we will get keyError : 'foo'"
   ]
  },
  {
   "cell_type": "code",
   "execution_count": 4,
   "id": "36ca055c",
   "metadata": {},
   "outputs": [
    {
     "ename": "KeyError",
     "evalue": "'foo'",
     "output_type": "error",
     "traceback": [
      "\u001b[1;31m---------------------------------------------------------------------------\u001b[0m",
      "\u001b[1;31mKeyError\u001b[0m                                  Traceback (most recent call last)",
      "Input \u001b[1;32mIn [4]\u001b[0m, in \u001b[0;36m<cell line: 2>\u001b[1;34m()\u001b[0m\n\u001b[0;32m      1\u001b[0m spam \u001b[38;5;241m=\u001b[39m {\u001b[38;5;124m'\u001b[39m\u001b[38;5;124mbar\u001b[39m\u001b[38;5;124m'\u001b[39m:\u001b[38;5;241m100\u001b[39m}\n\u001b[1;32m----> 2\u001b[0m \u001b[43mspam\u001b[49m\u001b[43m[\u001b[49m\u001b[38;5;124;43m'\u001b[39;49m\u001b[38;5;124;43mfoo\u001b[39;49m\u001b[38;5;124;43m'\u001b[39;49m\u001b[43m]\u001b[49m\n",
      "\u001b[1;31mKeyError\u001b[0m: 'foo'"
     ]
    }
   ],
   "source": [
    "spam = {'bar':100}\n",
    "spam['foo']"
   ]
  },
  {
   "cell_type": "markdown",
   "id": "ba44a16e",
   "metadata": {},
   "source": [
    "5.if a dictionary is stored in spam,what is the difference between the expressions 'cat' in spam and 'cat' in spam.keys() ?"
   ]
  },
  {
   "cell_type": "code",
   "execution_count": null,
   "id": "69720146",
   "metadata": {},
   "outputs": [],
   "source": [
    "There is no difference. The in operator checks whether a value exists as a key in the dictionary.\n",
    "'cat' in spam checks whether there is a 'cat' key in the dictionary, while 'cat' in spam."
   ]
  },
  {
   "cell_type": "markdown",
   "id": "3672675f",
   "metadata": {},
   "source": [
    "6.if a dictionary is stored in spam,what is the difference between the expressions 'cat' in spam and 'cat' in spam.values() ?"
   ]
  },
  {
   "cell_type": "code",
   "execution_count": null,
   "id": "fb12992f",
   "metadata": {},
   "outputs": [],
   "source": [
    "'cat' in spam checks whether there is a 'cat' key in the dictionary, while 'cat' in spam.values() checks whether there is a value 'cat' for one of the keys in spam."
   ]
  },
  {
   "cell_type": "code",
   "execution_count": null,
   "id": "cb2bbc4b",
   "metadata": {},
   "outputs": [],
   "source": [
    "7.what is a shortcut for the following code ?"
   ]
  },
  {
   "cell_type": "code",
   "execution_count": 7,
   "id": "fcc5bc89",
   "metadata": {},
   "outputs": [],
   "source": [
    "if 'color' not in spam:\n",
    "    spam['color'] ='black'"
   ]
  },
  {
   "cell_type": "code",
   "execution_count": 11,
   "id": "fd3c6343",
   "metadata": {},
   "outputs": [
    {
     "data": {
      "text/plain": [
       "'black'"
      ]
     },
     "execution_count": 11,
     "metadata": {},
     "output_type": "execute_result"
    }
   ],
   "source": [
    "spam1 = {}\n",
    "spam1.setdefault('color','black')"
   ]
  },
  {
   "cell_type": "markdown",
   "id": "b6d22eed",
   "metadata": {},
   "source": [
    "8.How do you &quot;pretty print&quot; dictionary values using which module and function?"
   ]
  },
  {
   "cell_type": "code",
   "execution_count": null,
   "id": "d92d2db5",
   "metadata": {},
   "outputs": [],
   "source": [
    "we can pretty print a dictionary using three functions\n",
    "\n",
    "1.by using pprint() function of pprint module\n",
    "    Note: pprint() function doesnot prettify nested dictionaries\n",
    "2.by using dumps() method of json module\n",
    "3.by using dumps() method of yaml module"
   ]
  },
  {
   "cell_type": "code",
   "execution_count": 15,
   "id": "51f12fbd",
   "metadata": {},
   "outputs": [
    {
     "name": "stdout",
     "output_type": "stream",
     "text": [
      "[{'Name': 'Kohli', 'Age': '35', 'Country': 'India'}, {'Name': 'Butler', 'Age': '30', 'Country': 'England'}, {'Name': 'Heydon', 'Age': '45', 'Country': 'AUS'}, {'Name': 'FaF', 'Age': '25', 'Country': 'SA'}]\n"
     ]
    }
   ],
   "source": [
    "# using print (), the output is not convincingly readable and it will show on the basis of comma \",\"\n",
    "dict_pretty =   [{'Name': 'Kohli', 'Age': '35', 'Country': 'India'},\n",
    "  {'Name': 'Butler', 'Age': '30', 'Country': 'England'},\n",
    "  {'Name': 'Heydon', 'Age': '45', 'Country': 'AUS'},\n",
    "  {'Name': 'FaF', 'Age': '25', 'Country': 'SA'}\n",
    "]\n",
    "\n",
    "print(dict_pretty)"
   ]
  },
  {
   "cell_type": "code",
   "execution_count": 14,
   "id": "2ed2421c",
   "metadata": {},
   "outputs": [
    {
     "name": "stdout",
     "output_type": "stream",
     "text": [
      "[{'Age': '35', 'Country': 'India', 'Name': 'Kohli'},\n",
      " {'Age': '30', 'Country': 'England', 'Name': 'Butler'},\n",
      " {'Age': '45', 'Country': 'AUS', 'Name': 'Heydon'},\n",
      " {'Age': '25', 'Country': 'SA', 'Name': 'FaF'}]\n"
     ]
    }
   ],
   "source": [
    "# Use pprint() to Pretty Print a Dictionary in Python:\n",
    "# The pprint() output is definitely more readable. it does is to break each dictionary element in the array right after the commas \n",
    "# while also sorting the dictionary’s values by key.\n",
    "\n",
    "import pprint\n",
    "\n",
    "dict_pretty =   [{'Name': 'Kohli', 'Age': '35', 'Country': 'India'},\n",
    "  {'Name': 'Butler', 'Age': '30', 'Country': 'England'},\n",
    "  {'Name': 'Heydon', 'Age': '45', 'Country': 'AUS'},\n",
    "  {'Name': 'FaF', 'Age': '25', 'Country': 'SA'}\n",
    "]\n",
    "\n",
    "pprint.pprint(dict_pretty)"
   ]
  },
  {
   "cell_type": "code",
   "execution_count": 25,
   "id": "62c26a90",
   "metadata": {},
   "outputs": [
    {
     "name": "stdout",
     "output_type": "stream",
     "text": [
      "[\n",
      "    {\n",
      "        \"Age\": \"35\",\n",
      "        \"Country\": \"India\",\n",
      "        \"Name\": \"Kohli\"\n",
      "    },\n",
      "    {\n",
      "        \"Age\": \"30\",\n",
      "        \"Country\": \"England\",\n",
      "        \"Name\": \"Butler\"\n",
      "    },\n",
      "    {\n",
      "        \"Age\": \"45\",\n",
      "        \"Country\": \"AUS\",\n",
      "        \"Name\": \"Heydon\"\n",
      "    },\n",
      "    {\n",
      "        \"Age\": \"25\",\n",
      "        \"Country\": \"SA\",\n",
      "        \"Name\": \"FaF\"\n",
      "    }\n",
      "]\n"
     ]
    }
   ],
   "source": [
    "# by using dumps(), for this we need to import json module\n",
    "\n",
    "import json\n",
    "\n",
    "dict_pretty =   [{'Name': 'Kohli', 'Age': '35', 'Country': 'India'},\n",
    "  {'Name': 'Butler', 'Age': '30', 'Country': 'England'},\n",
    "  {'Name': 'Heydon', 'Age': '45', 'Country': 'AUS'},\n",
    "  {'Name': 'FaF', 'Age': '25', 'Country': 'SA'}\n",
    "]\n",
    "\n",
    "print(json.dumps(dict_pretty, sort_keys = True, indent=4 ))"
   ]
  },
  {
   "cell_type": "code",
   "execution_count": 27,
   "id": "06ac5044",
   "metadata": {},
   "outputs": [
    {
     "name": "stdout",
     "output_type": "stream",
     "text": [
      "- Name: John\n",
      "  Age: '23'\n",
      "  Residence:\n",
      "    Country: USA\n",
      "    City: New York\n",
      "- Name: Jose\n",
      "  Age: '44'\n",
      "  Residence:\n",
      "    Country: Spain\n",
      "    City: Madrid\n",
      "- Name: Anne\n",
      "  Age: '29'\n",
      "  Residence:\n",
      "    Country: UK\n",
      "    City: England\n",
      "- Name: Lee\n",
      "  Age: '35'\n",
      "  Residence:\n",
      "    Country: Japan\n",
      "    City: Osaka\n",
      "\n"
     ]
    }
   ],
   "source": [
    "# using yaml() its is more readable:-\n",
    "\n",
    "import yaml\n",
    "\n",
    "dict_yaml= [\n",
    "  {'Name': 'John', 'Age': '23', 'Residence': {'Country':'USA', 'City': 'New York'}},\n",
    "  {'Name': 'Jose', 'Age': '44', 'Residence': {'Country':'Spain', 'City': 'Madrid'}},\n",
    "  {'Name': 'Anne', 'Age': '29', 'Residence': {'Country':'UK', 'City': 'England'}},\n",
    "  {'Name': 'Lee', 'Age': '35', 'Residence': {'Country':'Japan', 'City': 'Osaka'}}\n",
    "]\n",
    "\n",
    "print(yaml.dump(dict_yaml, sort_keys = False, default_flow_style = False))"
   ]
  }
 ],
 "metadata": {
  "kernelspec": {
   "display_name": "Python 3 (ipykernel)",
   "language": "python",
   "name": "python3"
  },
  "language_info": {
   "codemirror_mode": {
    "name": "ipython",
    "version": 3
   },
   "file_extension": ".py",
   "mimetype": "text/x-python",
   "name": "python",
   "nbconvert_exporter": "python",
   "pygments_lexer": "ipython3",
   "version": "3.9.12"
  }
 },
 "nbformat": 4,
 "nbformat_minor": 5
}
